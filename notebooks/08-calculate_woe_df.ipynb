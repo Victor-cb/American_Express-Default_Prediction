{
 "cells": [
  {
   "cell_type": "code",
   "execution_count": 1,
   "metadata": {},
   "outputs": [],
   "source": [
    "import pandas as pd\n",
    "import numpy as np"
   ]
  },
  {
   "cell_type": "code",
   "execution_count": 2,
   "metadata": {},
   "outputs": [],
   "source": [
    "train = pd.read_parquet(\"../data/processed/train_w_labels.parquet\")"
   ]
  },
  {
   "cell_type": "code",
   "execution_count": null,
   "metadata": {},
   "outputs": [],
   "source": [
    "train = train.groupby('customer_ID').tail(1).set_index('customer_ID')"
   ]
  },
  {
   "cell_type": "code",
   "execution_count": 5,
   "metadata": {},
   "outputs": [],
   "source": [
    "features = train.columns.to_list()\n",
    "features = features[2:]"
   ]
  },
  {
   "cell_type": "code",
   "execution_count": 7,
   "metadata": {},
   "outputs": [
    {
     "data": {
      "text/plain": [
       "0    340085\n",
       "1    118828\n",
       "Name: target, dtype: int64"
      ]
     },
     "execution_count": 7,
     "metadata": {},
     "output_type": "execute_result"
    }
   ],
   "source": [
    "train.target.value_counts()"
   ]
  },
  {
   "cell_type": "code",
   "execution_count": 8,
   "metadata": {},
   "outputs": [],
   "source": [
    "def iv_woe(data, target, bins=10, show_woe=False, show_iv= False, split_max= False):\n",
    "    import re\n",
    "\n",
    "    \n",
    "    iv_relevance_dict={\"not_useful\":[],\n",
    "                       \"useful\":[],\n",
    "                      }\n",
    "    #Empty Dataframe\n",
    "    newDF,woeDF = pd.DataFrame(), pd.DataFrame()\n",
    "    \n",
    "    #Extract Column Names\n",
    "    cols = data.columns\n",
    "    lst=[]\n",
    "    #Run WOE and IV on all the independent variables\n",
    "    for ivars in cols[~cols.isin([target])]:\n",
    "        \n",
    "        if (data[ivars].dtype.kind in 'bifc') and (len(np.unique(data[ivars]))>10):\n",
    "            binned_x = pd.qcut(data[ivars], bins,  duplicates='drop')\n",
    "            d0 = pd.DataFrame({'x': binned_x, 'y': data[target]})\n",
    "        else:\n",
    "            d0 = pd.DataFrame({'x': data[ivars], 'y': data[target]})\n",
    "        d0 = d0.astype({\"x\": str})\n",
    "        d = d0.groupby(\"x\", as_index=False, dropna=False).agg({\"y\": [\"count\", \"sum\"]})\n",
    "        d.columns = ['Cutoff', 'N', 'Good']\n",
    "        d.insert(loc=0, column='Variable', value=ivars)\n",
    "    \n",
    "        d['% of Good'] = np.maximum(d['Good'], 0.5) / d['Good'].sum()\n",
    "        d['Bad'] = d['N'] - d['Good']\n",
    "        d['% of Bad'] = np.maximum(d['Bad'], 0.5) / d['Bad'].sum()\n",
    "        d['WoE'] = np.log(d['% of Good']/d['% of Bad'])\n",
    "        d['IV'] = d['WoE'] * (d['% of Good']-d['% of Bad'])\n",
    "\n",
    "        \n",
    "        temp =pd.DataFrame({\"Variable\" : [ivars], \"IV\" : [d['IV'].sum()]}, columns = [\"Variable\", \"IV\"])\n",
    "        newDF=pd.concat([newDF,temp], axis=0)\n",
    "        woeDF=pd.concat([woeDF,d], axis=0)\n",
    "        \n",
    "        #Show IV_values:\n",
    "        if show_iv:\n",
    "            print(\"Information value of \" + ivars + \" is \" + str(round(d['IV'].sum(),6)))\n",
    "\n",
    "        #Show WOE Table\n",
    "        if show_woe == True:\n",
    "            print(d)\n",
    "        \n",
    "        \n",
    "    \n",
    "    #Creating a list of usefol and not useful features\n",
    "    for i,v in newDF.iterrows():\n",
    "        check = v[\"IV\"]\n",
    "        if check < 0.02:\n",
    "            iv_relevance_dict[\"not_useful\"].append(v[i])\n",
    "        elif 0.02 < check < 0.1:\n",
    "            iv_relevance_dict[\"useful\"].append(v[i])\n",
    "        elif 0.01 <= check < 0.3:\n",
    "            iv_relevance_dict[\"useful\"].append(v[i])\n",
    "        elif 0.03 <= check < 0.5:\n",
    "            iv_relevance_dict[\"useful\"].append(v[i])\n",
    "        else:\n",
    "            iv_relevance_dict[\"not_useful\"].append(v[i])\n",
    "\n",
    "    iv_relevance_dict[\"useful\"].append(\"target\")\n",
    "    # creating a parameter to update train df\n",
    "    if split_max:\n",
    "        import re\n",
    "        def split_it(year):\n",
    "            return pd.Series(re.findall('(\\s\\d{1,}\\.\\d{1,})', year))\n",
    "        def sec_split(year):\n",
    "            return pd.Series(re.findall('(^[-+]?\\d*$)', year))\n",
    "\n",
    "        woeDF[\"max\"] = woeDF['Cutoff'].apply(split_it)\n",
    "        woeDF[\"max\"] = pd.to_numeric(woeDF[\"max\"])\n",
    "        woeDF[\"max\"] = woeDF[\"max\"].replace({\"NaN\":np.NaN})\n",
    "\n",
    "        woeDF[\"test\"] = woeDF['Cutoff'].apply(sec_split)\n",
    "        woeDF[\"test\"] = pd.to_numeric(woeDF[\"test\"])\n",
    "        woeDF[\"test\"] = woeDF[\"test\"].replace({\"NaN\":np.NaN})\n",
    "\n",
    "        woeDF[\"var_max\"]= woeDF[[\"max\", \"test\"]].sum(axis=1, min_count=1)\n",
    "        woeDF.drop(columns=[\"max\", \"test\"], inplace= True)   \n",
    "    return newDF, woeDF, iv_relevance_dict\n",
    "   \n",
    "\n",
    "iv_values, woeDF, iv_relevance_dict = iv_woe(train[features], 'target', bins=10, show_woe=False)\n"
   ]
  },
  {
   "cell_type": "code",
   "execution_count": 9,
   "metadata": {},
   "outputs": [],
   "source": [
    "iv_dicts = pd.DataFrame(dict([(k, pd.Series(v)) for k, v in iv_relevance_dict.items()]))"
   ]
  },
  {
   "cell_type": "code",
   "execution_count": 10,
   "metadata": {},
   "outputs": [
    {
     "data": {
      "text/html": [
       "<div>\n",
       "<style scoped>\n",
       "    .dataframe tbody tr th:only-of-type {\n",
       "        vertical-align: middle;\n",
       "    }\n",
       "\n",
       "    .dataframe tbody tr th {\n",
       "        vertical-align: top;\n",
       "    }\n",
       "\n",
       "    .dataframe thead th {\n",
       "        text-align: right;\n",
       "    }\n",
       "</style>\n",
       "<table border=\"1\" class=\"dataframe\">\n",
       "  <thead>\n",
       "    <tr style=\"text-align: right;\">\n",
       "      <th></th>\n",
       "      <th>not_useful</th>\n",
       "      <th>useful</th>\n",
       "    </tr>\n",
       "  </thead>\n",
       "  <tbody>\n",
       "    <tr>\n",
       "      <th>0</th>\n",
       "      <td>B_1</td>\n",
       "      <td>D_39</td>\n",
       "    </tr>\n",
       "    <tr>\n",
       "      <th>1</th>\n",
       "      <td>B_2</td>\n",
       "      <td>D_42</td>\n",
       "    </tr>\n",
       "    <tr>\n",
       "      <th>2</th>\n",
       "      <td>R_1</td>\n",
       "      <td>B_5</td>\n",
       "    </tr>\n",
       "    <tr>\n",
       "      <th>3</th>\n",
       "      <td>S_3</td>\n",
       "      <td>D_46</td>\n",
       "    </tr>\n",
       "    <tr>\n",
       "      <th>4</th>\n",
       "      <td>D_41</td>\n",
       "      <td>D_49</td>\n",
       "    </tr>\n",
       "    <tr>\n",
       "      <th>...</th>\n",
       "      <td>...</td>\n",
       "      <td>...</td>\n",
       "    </tr>\n",
       "    <tr>\n",
       "      <th>91</th>\n",
       "      <td>D_126</td>\n",
       "      <td>target</td>\n",
       "    </tr>\n",
       "    <tr>\n",
       "      <th>92</th>\n",
       "      <td>B_41</td>\n",
       "      <td>NaN</td>\n",
       "    </tr>\n",
       "    <tr>\n",
       "      <th>93</th>\n",
       "      <td>R_28</td>\n",
       "      <td>NaN</td>\n",
       "    </tr>\n",
       "    <tr>\n",
       "      <th>94</th>\n",
       "      <td>D_141</td>\n",
       "      <td>NaN</td>\n",
       "    </tr>\n",
       "    <tr>\n",
       "      <th>95</th>\n",
       "      <td>D_144</td>\n",
       "      <td>NaN</td>\n",
       "    </tr>\n",
       "  </tbody>\n",
       "</table>\n",
       "<p>96 rows × 2 columns</p>\n",
       "</div>"
      ],
      "text/plain": [
       "   not_useful  useful\n",
       "0         B_1    D_39\n",
       "1         B_2    D_42\n",
       "2         R_1     B_5\n",
       "3         S_3    D_46\n",
       "4        D_41    D_49\n",
       "..        ...     ...\n",
       "91      D_126  target\n",
       "92       B_41     NaN\n",
       "93       R_28     NaN\n",
       "94      D_141     NaN\n",
       "95      D_144     NaN\n",
       "\n",
       "[96 rows x 2 columns]"
      ]
     },
     "execution_count": 10,
     "metadata": {},
     "output_type": "execute_result"
    }
   ],
   "source": [
    "iv_dicts"
   ]
  },
  {
   "cell_type": "code",
   "execution_count": 11,
   "metadata": {},
   "outputs": [],
   "source": [
    "iv_dicts.to_csv(\"../reports/iv_features.csv\")"
   ]
  },
  {
   "cell_type": "code",
   "execution_count": 12,
   "metadata": {},
   "outputs": [],
   "source": [
    "woeDF.to_csv(\"../reports/woeDF.csv\")"
   ]
  },
  {
   "cell_type": "code",
   "execution_count": 13,
   "metadata": {},
   "outputs": [],
   "source": [
    "iv_values.to_csv(\"../reports/iv_values.csv\")"
   ]
  },
  {
   "cell_type": "code",
   "execution_count": null,
   "metadata": {},
   "outputs": [],
   "source": []
  }
 ],
 "metadata": {
  "kernelspec": {
   "display_name": "Python 3.9.13 (conda)",
   "language": "python",
   "name": "python3"
  },
  "language_info": {
   "codemirror_mode": {
    "name": "ipython",
    "version": 3
   },
   "file_extension": ".py",
   "mimetype": "text/x-python",
   "name": "python",
   "nbconvert_exporter": "python",
   "pygments_lexer": "ipython3",
   "version": "3.9.13"
  },
  "orig_nbformat": 4,
  "vscode": {
   "interpreter": {
    "hash": "a37df45f2b4f5de47e402d1bd750bd56fcb828d129ff4ba544aa48c664b4557b"
   }
  }
 },
 "nbformat": 4,
 "nbformat_minor": 2
}
