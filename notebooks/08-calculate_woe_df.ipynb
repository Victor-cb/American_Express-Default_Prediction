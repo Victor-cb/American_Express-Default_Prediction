{
 "cells": [
  {
   "cell_type": "code",
   "execution_count": 1,
   "metadata": {},
   "outputs": [],
   "source": [
    "import pandas as pd\n",
    "import numpy as np"
   ]
  },
  {
   "cell_type": "code",
   "execution_count": 2,
   "metadata": {},
   "outputs": [],
   "source": [
    "train = pd.read_parquet(\"../data/processed/train_withlabels.parquet\")"
   ]
  },
  {
   "cell_type": "code",
   "execution_count": 3,
   "metadata": {},
   "outputs": [],
   "source": [
    "features = train.columns.to_list()\n",
    "features = features[2:]"
   ]
  },
  {
   "cell_type": "code",
   "execution_count": 16,
   "metadata": {},
   "outputs": [
    {
     "data": {
      "text/plain": [
       "0    4153582\n",
       "1    1377869\n",
       "Name: target, dtype: int64"
      ]
     },
     "execution_count": 16,
     "metadata": {},
     "output_type": "execute_result"
    }
   ],
   "source": [
    "train.target.value_counts()"
   ]
  },
  {
   "cell_type": "code",
   "execution_count": 4,
   "metadata": {},
   "outputs": [],
   "source": [
    "def iv_woe(data, target, bins=10, show_woe=False, show_iv= False, split_max= False):\n",
    "    import re\n",
    "\n",
    "\n",
    "    iv_relevance_dict={\"not_useful\":[],\n",
    "                       \"useful\":[],\n",
    "                      }\n",
    "    #Empty Dataframe\n",
    "    newDF,woeDF = pd.DataFrame(), pd.DataFrame()\n",
    "    \n",
    "    #Extract Column Names\n",
    "    cols = data.columns\n",
    "    lst=[]\n",
    "    #Run WOE and IV on all the independent variables\n",
    "    for ivars in cols[~cols.isin([target])]:\n",
    "        \n",
    "        if (data[ivars].dtype.kind in 'bifc') and (len(np.unique(data[ivars]))>10):\n",
    "            binned_x = pd.qcut(data[ivars], bins,  duplicates='drop')\n",
    "            d0 = pd.DataFrame({'x': binned_x, 'y': data[target]})\n",
    "        else:\n",
    "            d0 = pd.DataFrame({'x': data[ivars], 'y': data[target]})\n",
    "        d0 = d0.astype({\"x\": str})\n",
    "        d = d0.groupby(\"x\", as_index=False, dropna=False).agg({\"y\": [\"count\", \"sum\"]})\n",
    "        d.columns = ['Cutoff', 'N', 'Good']\n",
    "        d.insert(loc=0, column='Variable', value=ivars)\n",
    "    \n",
    "        d['% of Good'] = np.maximum(d['Good'], 0.5) / d['Good'].sum()\n",
    "        d['Bad'] = d['N'] - d['Good']\n",
    "        d['% of Bad'] = np.maximum(d['Bad'], 0.5) / d['Bad'].sum()\n",
    "        d['WoE'] = np.log(d['% of Good']/d['% of Bad'])\n",
    "        d['IV'] = d['WoE'] * (d['% of Good']-d['% of Bad'])\n",
    "\n",
    "        \n",
    "        temp =pd.DataFrame({\"Variable\" : [ivars], \"IV\" : [d['IV'].sum()]}, columns = [\"Variable\", \"IV\"])\n",
    "        newDF=pd.concat([newDF,temp], axis=0)\n",
    "        woeDF=pd.concat([woeDF,d], axis=0)\n",
    "        \n",
    "        #Show IV_values:\n",
    "        if show_iv:\n",
    "            print(\"Information value of \" + ivars + \" is \" + str(round(d['IV'].sum(),6)))\n",
    "\n",
    "        #Show WOE Table\n",
    "        if show_woe == True:\n",
    "            print(d)\n",
    "        \n",
    "        \n",
    "    \n",
    "    #Creating a list of usefol and not useful features\n",
    "    for i,v in newDF.iterrows():\n",
    "        check = v[\"IV\"]\n",
    "        if check < 0.02:\n",
    "            iv_relevance_dict[\"not_useful\"].append(v[i])\n",
    "        elif 0.02 < check < 0.1:\n",
    "            iv_relevance_dict[\"useful\"].append(v[i])\n",
    "        elif 0.01 <= check < 0.3:\n",
    "            iv_relevance_dict[\"useful\"].append(v[i])\n",
    "        elif 0.03 <= check < 0.5:\n",
    "            iv_relevance_dict[\"useful\"].append(v[i])\n",
    "        else:\n",
    "            iv_relevance_dict[\"not_useful\"].append(v[i])\n",
    "\n",
    "    iv_relevance_dict[\"useful\"].append(\"target\")\n",
    "    # creating a parameter to update train df\n",
    "    if split_max:\n",
    "        import re\n",
    "        def split_it(year):\n",
    "            return pd.Series(re.findall('(\\s\\d{1,}\\.\\d{1,})', year))\n",
    "        def sec_split(year):\n",
    "            return pd.Series(re.findall('(^[-+]?\\d*$)', year))\n",
    "\n",
    "        woeDF[\"max\"] = woeDF['Cutoff'].apply(split_it)\n",
    "        woeDF[\"max\"] = pd.to_numeric(woeDF[\"max\"])\n",
    "        woeDF[\"max\"] = woeDF[\"max\"].replace({\"NaN\":np.NaN})\n",
    "\n",
    "        woeDF[\"test\"] = woeDF['Cutoff'].apply(sec_split)\n",
    "        woeDF[\"test\"] = pd.to_numeric(woeDF[\"test\"])\n",
    "        woeDF[\"test\"] = woeDF[\"test\"].replace({\"NaN\":np.NaN})\n",
    "\n",
    "        woeDF[\"var_max\"]= woeDF[[\"max\", \"test\"]].sum(axis=1, min_count=1)\n",
    "        woeDF.drop(columns=[\"max\", \"test\"], inplace= True)   \n",
    "    return newDF, woeDF, iv_relevance_dict\n",
    "   \n",
    "\n",
    "iv_values, woeDF, iv_relevance_dict = iv_woe(train[features], 'target', bins=10, show_woe=False)\n"
   ]
  },
  {
   "cell_type": "code",
   "execution_count": 8,
   "metadata": {},
   "outputs": [],
   "source": [
    "iv_dicts = pd.DataFrame(dict([(k, pd.Series(v)) for k, v in iv_relevance_dict.items()]))"
   ]
  },
  {
   "cell_type": "code",
   "execution_count": 9,
   "metadata": {},
   "outputs": [
    {
     "data": {
      "text/html": [
       "<div>\n",
       "<style scoped>\n",
       "    .dataframe tbody tr th:only-of-type {\n",
       "        vertical-align: middle;\n",
       "    }\n",
       "\n",
       "    .dataframe tbody tr th {\n",
       "        vertical-align: top;\n",
       "    }\n",
       "\n",
       "    .dataframe thead th {\n",
       "        text-align: right;\n",
       "    }\n",
       "</style>\n",
       "<table border=\"1\" class=\"dataframe\">\n",
       "  <thead>\n",
       "    <tr style=\"text-align: right;\">\n",
       "      <th></th>\n",
       "      <th>not_useful</th>\n",
       "      <th>useful</th>\n",
       "    </tr>\n",
       "  </thead>\n",
       "  <tbody>\n",
       "    <tr>\n",
       "      <th>0</th>\n",
       "      <td>P_2</td>\n",
       "      <td>D_39</td>\n",
       "    </tr>\n",
       "    <tr>\n",
       "      <th>1</th>\n",
       "      <td>B_1</td>\n",
       "      <td>D_41</td>\n",
       "    </tr>\n",
       "    <tr>\n",
       "      <th>2</th>\n",
       "      <td>B_2</td>\n",
       "      <td>D_43</td>\n",
       "    </tr>\n",
       "    <tr>\n",
       "      <th>3</th>\n",
       "      <td>R_1</td>\n",
       "      <td>B_5</td>\n",
       "    </tr>\n",
       "    <tr>\n",
       "      <th>4</th>\n",
       "      <td>S_3</td>\n",
       "      <td>R_2</td>\n",
       "    </tr>\n",
       "    <tr>\n",
       "      <th>...</th>\n",
       "      <td>...</td>\n",
       "      <td>...</td>\n",
       "    </tr>\n",
       "    <tr>\n",
       "      <th>98</th>\n",
       "      <td>NaN</td>\n",
       "      <td>D_141</td>\n",
       "    </tr>\n",
       "    <tr>\n",
       "      <th>99</th>\n",
       "      <td>NaN</td>\n",
       "      <td>D_142</td>\n",
       "    </tr>\n",
       "    <tr>\n",
       "      <th>100</th>\n",
       "      <td>NaN</td>\n",
       "      <td>D_143</td>\n",
       "    </tr>\n",
       "    <tr>\n",
       "      <th>101</th>\n",
       "      <td>NaN</td>\n",
       "      <td>D_145</td>\n",
       "    </tr>\n",
       "    <tr>\n",
       "      <th>102</th>\n",
       "      <td>NaN</td>\n",
       "      <td>target</td>\n",
       "    </tr>\n",
       "  </tbody>\n",
       "</table>\n",
       "<p>103 rows × 2 columns</p>\n",
       "</div>"
      ],
      "text/plain": [
       "    not_useful  useful\n",
       "0          P_2    D_39\n",
       "1          B_1    D_41\n",
       "2          B_2    D_43\n",
       "3          R_1     B_5\n",
       "4          S_3     R_2\n",
       "..         ...     ...\n",
       "98         NaN   D_141\n",
       "99         NaN   D_142\n",
       "100        NaN   D_143\n",
       "101        NaN   D_145\n",
       "102        NaN  target\n",
       "\n",
       "[103 rows x 2 columns]"
      ]
     },
     "execution_count": 9,
     "metadata": {},
     "output_type": "execute_result"
    }
   ],
   "source": [
    "iv_dicts"
   ]
  },
  {
   "cell_type": "code",
   "execution_count": 10,
   "metadata": {},
   "outputs": [],
   "source": [
    "iv_dicts.to_csv(\"../reports/iv_features.csv\")"
   ]
  },
  {
   "cell_type": "code",
   "execution_count": 19,
   "metadata": {},
   "outputs": [],
   "source": [
    "woeDF.to_csv(\"../reports/woeDF.csv\")"
   ]
  },
  {
   "cell_type": "code",
   "execution_count": 20,
   "metadata": {},
   "outputs": [],
   "source": [
    "iv_values.to_csv(\"../reports/iv_values.csv\")"
   ]
  }
 ],
 "metadata": {
  "kernelspec": {
   "display_name": "Python 3.8.13 ('amex')",
   "language": "python",
   "name": "python3"
  },
  "language_info": {
   "codemirror_mode": {
    "name": "ipython",
    "version": 3
   },
   "file_extension": ".py",
   "mimetype": "text/x-python",
   "name": "python",
   "nbconvert_exporter": "python",
   "pygments_lexer": "ipython3",
   "version": "3.8.13"
  },
  "orig_nbformat": 4,
  "vscode": {
   "interpreter": {
    "hash": "2402223ceb02c82e09767fed984839ab3646589a63bcb32db44ba9d92921d1b9"
   }
  }
 },
 "nbformat": 4,
 "nbformat_minor": 2
}
