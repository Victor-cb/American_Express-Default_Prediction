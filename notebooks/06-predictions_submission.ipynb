{
 "cells": [
  {
   "cell_type": "code",
   "execution_count": 1,
   "metadata": {},
   "outputs": [],
   "source": [
    "import pandas as pd\n",
    "import numpy as np\n",
    "import matplotlib.pyplot as plt\n",
    "import gc\n",
    "import warnings\n",
    "import xgboost as xgb\n",
    "\n",
    "warnings.filterwarnings(\"ignore\")"
   ]
  },
  {
   "cell_type": "code",
   "execution_count": 2,
   "metadata": {},
   "outputs": [],
   "source": [
    "train = pd.read_parquet(\"../data/train.parquet\")\n"
   ]
  },
  {
   "cell_type": "code",
   "execution_count": 2,
   "metadata": {},
   "outputs": [],
   "source": [
    "test = pd.read_parquet(\"../data/test.parquet\")"
   ]
  },
  {
   "cell_type": "code",
   "execution_count": 4,
   "metadata": {},
   "outputs": [],
   "source": [
    "# Features for balancing\n",
    "features = train.columns.to_list()\n",
    "features = features[1:]"
   ]
  },
  {
   "cell_type": "code",
   "execution_count": 3,
   "metadata": {},
   "outputs": [],
   "source": [
    "features_test = [\"P_2\", \"target\", \"B_1\"]"
   ]
  },
  {
   "cell_type": "markdown",
   "metadata": {},
   "source": [
    "## Preparing test set for submission"
   ]
  },
  {
   "cell_type": "code",
   "execution_count": 4,
   "metadata": {},
   "outputs": [],
   "source": [
    "\n",
    "def iv_woe(data, feature, target, test,bins=10, show_woe=False, show_iv= False):\n",
    "    #Empty Dataframe\n",
    "    newDF,woeDF = pd.DataFrame(), pd.DataFrame()\n",
    "    #Extract Column Names\n",
    "    cols = [feature]\n",
    "    #Run WOE and IV on all the independent variables\n",
    "    for ivars in cols:\n",
    "        if (data[ivars].dtype.kind in 'bifc') and (len(np.unique(data[ivars]))>10):\n",
    "            binned_x = pd.qcut(data[ivars], bins,  duplicates='drop')\n",
    "            binned_t = pd.qcut(test[ivars], bins, duplicates='drop')\n",
    "            # data[ivars]= binned_x\n",
    "            # data[ivars] = data[ivars].astype(str)\n",
    "            test[ivars] = binned_t\n",
    "            test[ivars] = test[ivars].astype(str)\n",
    "            d0 = pd.DataFrame({'x': binned_x, 'y': data[target]})\n",
    "            d0 = d0.astype({\"x\": str})\n",
    "        else:\n",
    "            d0 = pd.DataFrame({'x': data[ivars], 'y': data[target]})\n",
    "            # data[ivars] = data[ivars]\n",
    "            test[ivars] = test[ivars]\n",
    "    \n",
    "    d = d0.groupby(\"x\", as_index=False, dropna=False).agg({\"y\": [\"count\", \"sum\"]})\n",
    "    d.columns = ['Cutoff', 'N', 'Events']\n",
    "    \n",
    "    d.insert(loc=0, column='Variable', value=ivars)\n",
    "\n",
    "    d['% of Events'] = np.maximum(d['Events'], 0.5) / d['Events'].sum()\n",
    "    d['Non-Events'] = d['N'] - d['Events']\n",
    "    d['% of Non-Events'] = np.maximum(d['Non-Events'], 0.5) / d['Non-Events'].sum()\n",
    "    d['WoE'] = np.log(d['% of Non-Events']/d['% of Events'])\n",
    "    d['IV'] = d['WoE'] * (d['% of Non-Events']-d['% of Events'])\n",
    "\n",
    "        \n",
    "    temp =pd.DataFrame({\"Variable\" : [ivars], \"IV\" : [d['IV'].sum()]}, columns = [\"Variable\", \"IV\"])\n",
    "    newDF=pd.concat([newDF,temp], axis=0)\n",
    "    woeDF=pd.concat([woeDF,d], axis=0)\n",
    "    return newDF, woeDF"
   ]
  },
  {
   "cell_type": "code",
   "execution_count": 5,
   "metadata": {},
   "outputs": [
    {
     "name": "stdout",
     "output_type": "stream",
     "text": [
      "WoE e IV: P_2\n",
      "0\n",
      "\n",
      "\n",
      "WoE e IV: B_1\n",
      "1\n",
      "\n",
      "\n"
     ]
    }
   ],
   "source": [
    "variaveis = train[features_test].columns\n",
    "#df1 = {}\n",
    "l = 0\n",
    "for col in variaveis:\n",
    "    if col == \"target\" or col == \"customer_ID\" or col == \"S_2\": continue\n",
    "    else:\n",
    "        print(\"WoE e IV: {}\".format(col))\n",
    "        iv, df = iv_woe(train, col, \"target\", test)\n",
    "        # df1[l] = df\n",
    "        # df1[l][\"nome\"] = \"WOE_\"+col\n",
    "        print(l)\n",
    "        l = l + 1\n",
    "        #print(tabulate(df, headers=\"keys\"))\n",
    "        #print(\"IV score: {:.2f}\".format(iv))\n",
    "        print(\"\\n\")\n",
    "        i = 0\n",
    "        for i in range(0,len(df)):\n",
    "            test.loc[test[col] == df.iloc[i,1], col] = df.iloc[i,7]\n",
    "        #del df, iv\n",
    "        gc.collect()"
   ]
  },
  {
   "cell_type": "code",
   "execution_count": 6,
   "metadata": {},
   "outputs": [
    {
     "data": {
      "text/html": [
       "<div>\n",
       "<style scoped>\n",
       "    .dataframe tbody tr th:only-of-type {\n",
       "        vertical-align: middle;\n",
       "    }\n",
       "\n",
       "    .dataframe tbody tr th {\n",
       "        vertical-align: top;\n",
       "    }\n",
       "\n",
       "    .dataframe thead th {\n",
       "        text-align: right;\n",
       "    }\n",
       "</style>\n",
       "<table border=\"1\" class=\"dataframe\">\n",
       "  <thead>\n",
       "    <tr style=\"text-align: right;\">\n",
       "      <th></th>\n",
       "      <th>Variable</th>\n",
       "      <th>Cutoff</th>\n",
       "      <th>N</th>\n",
       "      <th>Events</th>\n",
       "      <th>% of Events</th>\n",
       "      <th>Non-Events</th>\n",
       "      <th>% of Non-Events</th>\n",
       "      <th>WoE</th>\n",
       "      <th>IV</th>\n",
       "    </tr>\n",
       "  </thead>\n",
       "  <tbody>\n",
       "    <tr>\n",
       "      <th>0</th>\n",
       "      <td>B_1</td>\n",
       "      <td>(-7.590000000000001, 0.004]</td>\n",
       "      <td>553146</td>\n",
       "      <td>38988</td>\n",
       "      <td>0.028296</td>\n",
       "      <td>514158</td>\n",
       "      <td>0.123787</td>\n",
       "      <td>1.475844</td>\n",
       "      <td>0.140929</td>\n",
       "    </tr>\n",
       "    <tr>\n",
       "      <th>1</th>\n",
       "      <td>B_1</td>\n",
       "      <td>(0.004, 0.00733]</td>\n",
       "      <td>553145</td>\n",
       "      <td>39210</td>\n",
       "      <td>0.028457</td>\n",
       "      <td>513935</td>\n",
       "      <td>0.123733</td>\n",
       "      <td>1.469732</td>\n",
       "      <td>0.140030</td>\n",
       "    </tr>\n",
       "    <tr>\n",
       "      <th>2</th>\n",
       "      <td>B_1</td>\n",
       "      <td>(0.00733, 0.0106]</td>\n",
       "      <td>553145</td>\n",
       "      <td>39913</td>\n",
       "      <td>0.028967</td>\n",
       "      <td>513232</td>\n",
       "      <td>0.123564</td>\n",
       "      <td>1.450593</td>\n",
       "      <td>0.137221</td>\n",
       "    </tr>\n",
       "    <tr>\n",
       "      <th>3</th>\n",
       "      <td>B_1</td>\n",
       "      <td>(0.0106, 0.0199]</td>\n",
       "      <td>553145</td>\n",
       "      <td>46232</td>\n",
       "      <td>0.033553</td>\n",
       "      <td>506913</td>\n",
       "      <td>0.122042</td>\n",
       "      <td>1.291234</td>\n",
       "      <td>0.114260</td>\n",
       "    </tr>\n",
       "    <tr>\n",
       "      <th>4</th>\n",
       "      <td>B_1</td>\n",
       "      <td>(0.0199, 0.0313]</td>\n",
       "      <td>553145</td>\n",
       "      <td>54956</td>\n",
       "      <td>0.039885</td>\n",
       "      <td>498189</td>\n",
       "      <td>0.119942</td>\n",
       "      <td>1.101014</td>\n",
       "      <td>0.088144</td>\n",
       "    </tr>\n",
       "    <tr>\n",
       "      <th>5</th>\n",
       "      <td>B_1</td>\n",
       "      <td>(0.0313, 0.0503]</td>\n",
       "      <td>553145</td>\n",
       "      <td>83679</td>\n",
       "      <td>0.060731</td>\n",
       "      <td>469466</td>\n",
       "      <td>0.113027</td>\n",
       "      <td>0.621175</td>\n",
       "      <td>0.032485</td>\n",
       "    </tr>\n",
       "    <tr>\n",
       "      <th>6</th>\n",
       "      <td>B_1</td>\n",
       "      <td>(0.0503, 0.0968]</td>\n",
       "      <td>553145</td>\n",
       "      <td>169387</td>\n",
       "      <td>0.122934</td>\n",
       "      <td>383758</td>\n",
       "      <td>0.092392</td>\n",
       "      <td>-0.285607</td>\n",
       "      <td>0.008723</td>\n",
       "    </tr>\n",
       "    <tr>\n",
       "      <th>7</th>\n",
       "      <td>B_1</td>\n",
       "      <td>(0.0968, 0.188]</td>\n",
       "      <td>553145</td>\n",
       "      <td>272960</td>\n",
       "      <td>0.198103</td>\n",
       "      <td>280185</td>\n",
       "      <td>0.067456</td>\n",
       "      <td>-1.077308</td>\n",
       "      <td>0.140747</td>\n",
       "    </tr>\n",
       "    <tr>\n",
       "      <th>8</th>\n",
       "      <td>B_1</td>\n",
       "      <td>(0.188, 0.396]</td>\n",
       "      <td>553145</td>\n",
       "      <td>292436</td>\n",
       "      <td>0.212238</td>\n",
       "      <td>260709</td>\n",
       "      <td>0.062767</td>\n",
       "      <td>-1.218274</td>\n",
       "      <td>0.182096</td>\n",
       "    </tr>\n",
       "    <tr>\n",
       "      <th>9</th>\n",
       "      <td>B_1</td>\n",
       "      <td>(0.396, 1.324]</td>\n",
       "      <td>553145</td>\n",
       "      <td>340108</td>\n",
       "      <td>0.246836</td>\n",
       "      <td>213037</td>\n",
       "      <td>0.051290</td>\n",
       "      <td>-1.571230</td>\n",
       "      <td>0.307248</td>\n",
       "    </tr>\n",
       "  </tbody>\n",
       "</table>\n",
       "</div>"
      ],
      "text/plain": [
       "  Variable                       Cutoff       N  Events  % of Events  \\\n",
       "0      B_1  (-7.590000000000001, 0.004]  553146   38988     0.028296   \n",
       "1      B_1             (0.004, 0.00733]  553145   39210     0.028457   \n",
       "2      B_1            (0.00733, 0.0106]  553145   39913     0.028967   \n",
       "3      B_1             (0.0106, 0.0199]  553145   46232     0.033553   \n",
       "4      B_1             (0.0199, 0.0313]  553145   54956     0.039885   \n",
       "5      B_1             (0.0313, 0.0503]  553145   83679     0.060731   \n",
       "6      B_1             (0.0503, 0.0968]  553145  169387     0.122934   \n",
       "7      B_1              (0.0968, 0.188]  553145  272960     0.198103   \n",
       "8      B_1               (0.188, 0.396]  553145  292436     0.212238   \n",
       "9      B_1               (0.396, 1.324]  553145  340108     0.246836   \n",
       "\n",
       "   Non-Events  % of Non-Events       WoE        IV  \n",
       "0      514158         0.123787  1.475844  0.140929  \n",
       "1      513935         0.123733  1.469732  0.140030  \n",
       "2      513232         0.123564  1.450593  0.137221  \n",
       "3      506913         0.122042  1.291234  0.114260  \n",
       "4      498189         0.119942  1.101014  0.088144  \n",
       "5      469466         0.113027  0.621175  0.032485  \n",
       "6      383758         0.092392 -0.285607  0.008723  \n",
       "7      280185         0.067456 -1.077308  0.140747  \n",
       "8      260709         0.062767 -1.218274  0.182096  \n",
       "9      213037         0.051290 -1.571230  0.307248  "
      ]
     },
     "execution_count": 6,
     "metadata": {},
     "output_type": "execute_result"
    }
   ],
   "source": [
    "df.head(16)"
   ]
  },
  {
   "cell_type": "code",
   "execution_count": 6,
   "metadata": {},
   "outputs": [
    {
     "data": {
      "text/plain": [
       "0           0.010728\n",
       "1           0.011026\n",
       "2           0.016390\n",
       "3           0.021672\n",
       "4           0.015923\n",
       "              ...   \n",
       "11363757    0.008638\n",
       "11363758    0.009636\n",
       "11363759    0.004420\n",
       "11363760    0.009529\n",
       "11363761    0.000346\n",
       "Name: B_1, Length: 11363762, dtype: float32"
      ]
     },
     "execution_count": 6,
     "metadata": {},
     "output_type": "execute_result"
    }
   ],
   "source": [
    "test[\"B_1\"]"
   ]
  },
  {
   "cell_type": "code",
   "execution_count": 10,
   "metadata": {},
   "outputs": [
    {
     "data": {
      "text/plain": [
       "(-7.058000000000001, 0.00435]    1136377\n",
       "(0.412, 1.324]                   1136377\n",
       "(0.0079, 0.0124]                 1136376\n",
       "(0.0124, 0.0216]                 1136376\n",
       "(0.0216, 0.0334]                 1136376\n",
       "(0.198, 0.412]                   1136376\n",
       "(0.0334, 0.0541]                 1136376\n",
       "(0.0541, 0.103]                  1136376\n",
       "(0.00435, 0.0079]                1136376\n",
       "(0.103, 0.198]                   1136376\n",
       "Name: B_1, dtype: int64"
      ]
     },
     "execution_count": 10,
     "metadata": {},
     "output_type": "execute_result"
    }
   ],
   "source": [
    "test[\"B_1\"].value_counts()"
   ]
  },
  {
   "cell_type": "code",
   "execution_count": null,
   "metadata": {},
   "outputs": [],
   "source": []
  },
  {
   "cell_type": "markdown",
   "metadata": {},
   "source": [
    "_____________________________________________"
   ]
  },
  {
   "cell_type": "code",
   "execution_count": null,
   "metadata": {},
   "outputs": [],
   "source": [
    "test.to_parquet(\"../data/test_balanced[70:-1].parquet\")"
   ]
  },
  {
   "cell_type": "code",
   "execution_count": null,
   "metadata": {},
   "outputs": [],
   "source": [
    "model = xgb.Booster()"
   ]
  },
  {
   "cell_type": "code",
   "execution_count": null,
   "metadata": {},
   "outputs": [],
   "source": [
    "model.load_model(\"../models/XGB_V_fold4.xgb\")"
   ]
  },
  {
   "cell_type": "code",
   "execution_count": null,
   "metadata": {},
   "outputs": [],
   "source": [
    "d_test_matrix = xgb.DMatrix(test[FEATURES])"
   ]
  },
  {
   "cell_type": "code",
   "execution_count": null,
   "metadata": {},
   "outputs": [],
   "source": [
    "predictions = model.predict(d_test_matrix)"
   ]
  },
  {
   "cell_type": "code",
   "execution_count": 3,
   "metadata": {},
   "outputs": [
    {
     "name": "stdout",
     "output_type": "stream",
     "text": [
      "Reading test data...\n"
     ]
    },
    {
     "ename": "NameError",
     "evalue": "name 'read_file' is not defined",
     "output_type": "error",
     "traceback": [
      "\u001b[0;31m---------------------------------------------------------------------------\u001b[0m",
      "\u001b[0;31mNameError\u001b[0m                                 Traceback (most recent call last)",
      "Cell \u001b[0;32mIn [3], line 23\u001b[0m\n\u001b[1;32m     20\u001b[0m TEST_PATH \u001b[38;5;241m=\u001b[39m \u001b[38;5;124m'\u001b[39m\u001b[38;5;124m../data/test.parquet\u001b[39m\u001b[38;5;124m'\u001b[39m\n\u001b[1;32m     22\u001b[0m \u001b[38;5;28mprint\u001b[39m(\u001b[38;5;124mf\u001b[39m\u001b[38;5;124m'\u001b[39m\u001b[38;5;124mReading test data...\u001b[39m\u001b[38;5;124m'\u001b[39m)\n\u001b[0;32m---> 23\u001b[0m test \u001b[38;5;241m=\u001b[39m read_file(path \u001b[38;5;241m=\u001b[39m TEST_PATH, usecols \u001b[38;5;241m=\u001b[39m [\u001b[38;5;124m'\u001b[39m\u001b[38;5;124mcustomer_ID\u001b[39m\u001b[38;5;124m'\u001b[39m,\u001b[38;5;124m'\u001b[39m\u001b[38;5;124mS_2\u001b[39m\u001b[38;5;124m'\u001b[39m])\n\u001b[1;32m     24\u001b[0m customers \u001b[38;5;241m=\u001b[39m test[[\u001b[38;5;124m'\u001b[39m\u001b[38;5;124mcustomer_ID\u001b[39m\u001b[38;5;124m'\u001b[39m]]\u001b[38;5;241m.\u001b[39mdrop_duplicates()\u001b[38;5;241m.\u001b[39msort_index()\u001b[38;5;241m.\u001b[39mvalues\u001b[38;5;241m.\u001b[39mflatten()\n\u001b[1;32m     25\u001b[0m rows,num_cust \u001b[38;5;241m=\u001b[39m get_rows(customers, test[[\u001b[38;5;124m'\u001b[39m\u001b[38;5;124mcustomer_ID\u001b[39m\u001b[38;5;124m'\u001b[39m]], NUM_PARTS \u001b[38;5;241m=\u001b[39m NUM_PARTS, verbose \u001b[38;5;241m=\u001b[39m \u001b[38;5;124m'\u001b[39m\u001b[38;5;124mtest\u001b[39m\u001b[38;5;124m'\u001b[39m)\n",
      "\u001b[0;31mNameError\u001b[0m: name 'read_file' is not defined"
     ]
    }
   ],
   "source": [
    "# CALCULATE SIZE OF EACH SEPARATE TEST PART\n",
    "def get_rows(customers, test, NUM_PARTS = 4, verbose = ''):\n",
    "    chunk = len(customers)//NUM_PARTS\n",
    "    if verbose != '':\n",
    "        print(f'We will process {verbose} data as {NUM_PARTS} separate parts.')\n",
    "        print(f'There will be {chunk} customers in each part (except the last part).')\n",
    "        print('Below are number of rows in each part:')\n",
    "    rows = []\n",
    "\n",
    "    for k in range(NUM_PARTS):\n",
    "        if k==NUM_PARTS-1: cc = customers[k*chunk:]\n",
    "        else: cc = customers[k*chunk:(k+1)*chunk]\n",
    "        s = test.loc[test.customer_ID.isin(cc)].shape[0]\n",
    "        rows.append(s)\n",
    "    if verbose != '': print( rows )\n",
    "    return rows,chunk\n",
    "\n",
    "# COMPUTE SIZE OF 4 PARTS FOR TEST DATA\n",
    "NUM_PARTS = 4\n",
    "TEST_PATH = '../data/test.parquet'\n",
    "\n",
    "print(f'Reading test data...')\n",
    "test = read_file(path = TEST_PATH, usecols = ['customer_ID','S_2'])\n",
    "customers = test[['customer_ID']].drop_duplicates().sort_index().values.flatten()\n",
    "rows,num_cust = get_rows(customers, test[['customer_ID']], NUM_PARTS = NUM_PARTS, verbose = 'test')"
   ]
  },
  {
   "cell_type": "code",
   "execution_count": null,
   "metadata": {},
   "outputs": [],
   "source": [
    "# INFER TEST DATA IN PARTS\n",
    "skip_rows = 0\n",
    "skip_cust = 0\n",
    "test_preds = []\n",
    "\n",
    "for k in range(NUM_PARTS):\n",
    "    \n",
    "    # READ PART OF TEST DATA\n",
    "    print(f'\\nReading test data...')\n",
    "    test = read_file(path = TEST_PATH)\n",
    "    test = test.iloc[skip_rows:skip_rows+rows[k]]\n",
    "    skip_rows += rows[k]\n",
    "    print(f'=> Test part {k+1} has shape', test.shape )\n",
    "    \n",
    "    # PROCESS AND FEATURE ENGINEER PART OF TEST DATA\n",
    "    test = process_and_feature_engineer(test)\n",
    "    if k==NUM_PARTS-1: test = test.loc[customers[skip_cust:]]\n",
    "    else: test = test.loc[customers[skip_cust:skip_cust+num_cust]]\n",
    "    skip_cust += num_cust\n",
    "    \n",
    "    # TEST DATA FOR XGB\n",
    "    X_test = test[FEATURES]\n",
    "    dtest = xgb.DMatrix(data=X_test)\n",
    "    test = test[['P_2_mean']] # reduce memory\n",
    "    del X_test\n",
    "    gc.collect()\n",
    "\n",
    "    # INFER XGB MODELS ON TEST DATA\n",
    "    model = xgb.Booster()\n",
    "    model.load_model(f'XGB_v{VER}_fold0.xgb')\n",
    "    preds = model.predict(dtest)\n",
    "    for f in range(1,FOLDS):\n",
    "        model.load_model(f'XGB_v{VER}_fold{f}.xgb')\n",
    "        preds += model.predict(dtest)\n",
    "    preds /= FOLDS\n",
    "    test_preds.append(preds)\n",
    "\n",
    "    # CLEAN MEMORY\n",
    "    del dtest, model\n",
    "    _ = gc.collect()"
   ]
  },
  {
   "cell_type": "code",
   "execution_count": null,
   "metadata": {},
   "outputs": [],
   "source": [
    "# WRITE SUBMISSION FILE\n",
    "test_preds = np.concatenate(test_preds)\n",
    "test = cudf.DataFrame(index=customers,data={'prediction':test_preds})\n",
    "sub = cudf.read_csv('../input/amex-default-prediction/sample_submission.csv')[['customer_ID']]\n",
    "sub['customer_ID_hash'] = sub['customer_ID'].str[-16:].str.hex_to_int().astype('int64')\n",
    "sub = sub.set_index('customer_ID_hash')\n",
    "sub = sub.merge(test[['prediction']], left_index=True, right_index=True, how='left')\n",
    "sub = sub.reset_index(drop=True)\n",
    "\n",
    "# DISPLAY PREDICTIONS\n",
    "sub.to_csv(f'submission_xgb_v{VER}.csv',index=False)\n",
    "print('Submission file shape is', sub.shape )\n",
    "sub.head()"
   ]
  },
  {
   "cell_type": "code",
   "execution_count": null,
   "metadata": {},
   "outputs": [],
   "source": [
    "# PLOT PREDICTIONS\n",
    "plt.hist(sub.to_pandas().prediction, bins=100)\n",
    "plt.title('Test Predictions')\n",
    "plt.show()"
   ]
  }
 ],
 "metadata": {
  "kernelspec": {
   "display_name": "Python 3.8.10 ('venv': venv)",
   "language": "python",
   "name": "python3"
  },
  "language_info": {
   "codemirror_mode": {
    "name": "ipython",
    "version": 3
   },
   "file_extension": ".py",
   "mimetype": "text/x-python",
   "name": "python",
   "nbconvert_exporter": "python",
   "pygments_lexer": "ipython3",
   "version": "3.8.10"
  },
  "orig_nbformat": 4,
  "vscode": {
   "interpreter": {
    "hash": "3fddb47bc9764f917e582b0801b6a9ae07a3476d8133832258babead972bf3eb"
   }
  }
 },
 "nbformat": 4,
 "nbformat_minor": 2
}
