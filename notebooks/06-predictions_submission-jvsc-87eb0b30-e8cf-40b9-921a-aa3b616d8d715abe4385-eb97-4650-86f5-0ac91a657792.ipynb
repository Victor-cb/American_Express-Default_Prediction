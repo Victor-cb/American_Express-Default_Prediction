{
 "cells": [
  {
   "cell_type": "code",
   "execution_count": null,
   "metadata": {},
   "outputs": [],
   "source": []
  }
 ],
 "metadata": {
  "kernelspec": {
   "display_name": "Python 3.8.13 ('amex')",
   "language": "python",
   "name": "python3"
  },
  "language_info": {
   "name": "python",
   "version": "3.8.13"
  },
  "vscode": {
   "interpreter": {
    "hash": "2402223ceb02c82e09767fed984839ab3646589a63bcb32db44ba9d92921d1b9"
   }
  }
 },
 "nbformat": 4,
 "nbformat_minor": 5
}
