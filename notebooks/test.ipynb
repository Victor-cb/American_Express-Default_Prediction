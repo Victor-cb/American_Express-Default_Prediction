{
 "cells": [
  {
   "cell_type": "code",
   "execution_count": 2,
   "metadata": {},
   "outputs": [],
   "source": [
    "import pandas as pd"
   ]
  },
  {
   "cell_type": "code",
   "execution_count": 4,
   "metadata": {},
   "outputs": [],
   "source": [
    "woe = pd.read_csv(\"../data/woedf.csv\")"
   ]
  },
  {
   "cell_type": "code",
   "execution_count": 15,
   "metadata": {},
   "outputs": [
    {
     "name": "stdout",
     "output_type": "stream",
     "text": [
      "<class 'pandas.core.frame.DataFrame'>\n",
      "Int64Index: 1238 entries, 0 to 1237\n",
      "Data columns (total 10 columns):\n",
      " #   Column           Non-Null Count  Dtype  \n",
      "---  ------           --------------  -----  \n",
      " 0   Variable         1238 non-null   object \n",
      " 1   2cutoff          1063 non-null   string \n",
      " 2   Cutoff           1171 non-null   object \n",
      " 3   N                1238 non-null   int64  \n",
      " 4   Events           1238 non-null   int64  \n",
      " 5   % of Events      1238 non-null   float64\n",
      " 6   Non-Events       1238 non-null   int64  \n",
      " 7   % of Non-Events  1238 non-null   float64\n",
      " 8   WoE              1238 non-null   float64\n",
      " 9   IV               1238 non-null   float64\n",
      "dtypes: float64(4), int64(3), object(2), string(1)\n",
      "memory usage: 106.4+ KB\n"
     ]
    }
   ],
   "source": [
    "woe.info()"
   ]
  },
  {
   "cell_type": "code",
   "execution_count": 18,
   "metadata": {},
   "outputs": [
    {
     "data": {
      "text/html": [
       "<div>\n",
       "<style scoped>\n",
       "    .dataframe tbody tr th:only-of-type {\n",
       "        vertical-align: middle;\n",
       "    }\n",
       "\n",
       "    .dataframe tbody tr th {\n",
       "        vertical-align: top;\n",
       "    }\n",
       "\n",
       "    .dataframe thead th {\n",
       "        text-align: right;\n",
       "    }\n",
       "</style>\n",
       "<table border=\"1\" class=\"dataframe\">\n",
       "  <thead>\n",
       "    <tr style=\"text-align: right;\">\n",
       "      <th></th>\n",
       "      <th>Variable</th>\n",
       "      <th>2cutoff</th>\n",
       "      <th>Cutoff</th>\n",
       "      <th>N</th>\n",
       "      <th>Events</th>\n",
       "      <th>% of Events</th>\n",
       "      <th>Non-Events</th>\n",
       "      <th>% of Non-Events</th>\n",
       "      <th>WoE</th>\n",
       "      <th>IV</th>\n",
       "    </tr>\n",
       "  </thead>\n",
       "  <tbody>\n",
       "    <tr>\n",
       "      <th>0</th>\n",
       "      <td>P_2</td>\n",
       "      <td>(0.889, 0.941]</td>\n",
       "      <td>(-0.46, 0.319]</td>\n",
       "      <td>548547</td>\n",
       "      <td>424060</td>\n",
       "      <td>0.307765</td>\n",
       "      <td>124487</td>\n",
       "      <td>0.029971</td>\n",
       "      <td>-2.329107</td>\n",
       "      <td>0.647012</td>\n",
       "    </tr>\n",
       "  </tbody>\n",
       "</table>\n",
       "</div>"
      ],
      "text/plain": [
       "  Variable         2cutoff          Cutoff       N  Events  % of Events  \\\n",
       "0      P_2  (0.889, 0.941]  (-0.46, 0.319]  548547  424060     0.307765   \n",
       "\n",
       "   Non-Events  % of Non-Events       WoE        IV  \n",
       "0      124487         0.029971 -2.329107  0.647012  "
      ]
     },
     "execution_count": 18,
     "metadata": {},
     "output_type": "execute_result"
    }
   ],
   "source": [
    "woe.head(1)"
   ]
  },
  {
   "cell_type": "code",
   "execution_count": 14,
   "metadata": {},
   "outputs": [],
   "source": [
    "woe['2cutoff'] =woe['2cutoff'].astype(\"string\")"
   ]
  },
  {
   "cell_type": "code",
   "execution_count": 17,
   "metadata": {},
   "outputs": [
    {
     "ename": "AttributeError",
     "evalue": "'Series' object has no attribute 'split'",
     "output_type": "error",
     "traceback": [
      "\u001b[0;31m---------------------------------------------------------------------------\u001b[0m",
      "\u001b[0;31mAttributeError\u001b[0m                            Traceback (most recent call last)",
      "Cell \u001b[0;32mIn [17], line 1\u001b[0m\n\u001b[0;32m----> 1\u001b[0m woe[\u001b[38;5;124m'\u001b[39m\u001b[38;5;124mmin\u001b[39m\u001b[38;5;124m'\u001b[39m] \u001b[38;5;241m=\u001b[39m woe[\u001b[38;5;124m'\u001b[39m\u001b[38;5;124m2cutoff\u001b[39m\u001b[38;5;124m'\u001b[39m]\u001b[38;5;241m.\u001b[39msplit()\n",
      "File \u001b[0;32m~/Documents/1-DataScience/1-Projetos/American_Express-Default_Prediction/venv/lib/python3.8/site-packages/pandas/core/generic.py:5907\u001b[0m, in \u001b[0;36mNDFrame.__getattr__\u001b[0;34m(self, name)\u001b[0m\n\u001b[1;32m   5900\u001b[0m \u001b[39mif\u001b[39;00m (\n\u001b[1;32m   5901\u001b[0m     name \u001b[39mnot\u001b[39;00m \u001b[39min\u001b[39;00m \u001b[39mself\u001b[39m\u001b[39m.\u001b[39m_internal_names_set\n\u001b[1;32m   5902\u001b[0m     \u001b[39mand\u001b[39;00m name \u001b[39mnot\u001b[39;00m \u001b[39min\u001b[39;00m \u001b[39mself\u001b[39m\u001b[39m.\u001b[39m_metadata\n\u001b[1;32m   5903\u001b[0m     \u001b[39mand\u001b[39;00m name \u001b[39mnot\u001b[39;00m \u001b[39min\u001b[39;00m \u001b[39mself\u001b[39m\u001b[39m.\u001b[39m_accessors\n\u001b[1;32m   5904\u001b[0m     \u001b[39mand\u001b[39;00m \u001b[39mself\u001b[39m\u001b[39m.\u001b[39m_info_axis\u001b[39m.\u001b[39m_can_hold_identifiers_and_holds_name(name)\n\u001b[1;32m   5905\u001b[0m ):\n\u001b[1;32m   5906\u001b[0m     \u001b[39mreturn\u001b[39;00m \u001b[39mself\u001b[39m[name]\n\u001b[0;32m-> 5907\u001b[0m \u001b[39mreturn\u001b[39;00m \u001b[39mobject\u001b[39;49m\u001b[39m.\u001b[39;49m\u001b[39m__getattribute__\u001b[39;49m(\u001b[39mself\u001b[39;49m, name)\n",
      "\u001b[0;31mAttributeError\u001b[0m: 'Series' object has no attribute 'split'"
     ]
    }
   ],
   "source": [
    "woe['min'] = woe['2cutoff'].split()"
   ]
  },
  {
   "cell_type": "code",
   "execution_count": 19,
   "metadata": {},
   "outputs": [
    {
     "data": {
      "text/html": [
       "<div>\n",
       "<style scoped>\n",
       "    .dataframe tbody tr th:only-of-type {\n",
       "        vertical-align: middle;\n",
       "    }\n",
       "\n",
       "    .dataframe tbody tr th {\n",
       "        vertical-align: top;\n",
       "    }\n",
       "\n",
       "    .dataframe thead th {\n",
       "        text-align: right;\n",
       "    }\n",
       "</style>\n",
       "<table border=\"1\" class=\"dataframe\">\n",
       "  <thead>\n",
       "    <tr style=\"text-align: right;\">\n",
       "      <th></th>\n",
       "      <th>Variable</th>\n",
       "      <th>2cutoff</th>\n",
       "      <th>Cutoff</th>\n",
       "      <th>N</th>\n",
       "      <th>Events</th>\n",
       "      <th>% of Events</th>\n",
       "      <th>Non-Events</th>\n",
       "      <th>% of Non-Events</th>\n",
       "      <th>WoE</th>\n",
       "      <th>IV</th>\n",
       "    </tr>\n",
       "  </thead>\n",
       "  <tbody>\n",
       "    <tr>\n",
       "      <th>0</th>\n",
       "      <td>P_2</td>\n",
       "      <td>(0.889, 0.941]</td>\n",
       "      <td>(-0.46, 0.319]</td>\n",
       "      <td>548547</td>\n",
       "      <td>424060</td>\n",
       "      <td>0.307765</td>\n",
       "      <td>124487</td>\n",
       "      <td>0.029971</td>\n",
       "      <td>-2.329107</td>\n",
       "      <td>0.647012</td>\n",
       "    </tr>\n",
       "    <tr>\n",
       "      <th>1</th>\n",
       "      <td>P_2</td>\n",
       "      <td>(0.889, 0.941]</td>\n",
       "      <td>(0.319, 0.433]</td>\n",
       "      <td>548548</td>\n",
       "      <td>339707</td>\n",
       "      <td>0.246545</td>\n",
       "      <td>208841</td>\n",
       "      <td>0.050280</td>\n",
       "      <td>-1.589943</td>\n",
       "      <td>0.312051</td>\n",
       "    </tr>\n",
       "    <tr>\n",
       "      <th>2</th>\n",
       "      <td>P_2</td>\n",
       "      <td>(0.941, 1.01]</td>\n",
       "      <td>(0.433, 0.526]</td>\n",
       "      <td>548545</td>\n",
       "      <td>264940</td>\n",
       "      <td>0.192282</td>\n",
       "      <td>283605</td>\n",
       "      <td>0.068280</td>\n",
       "      <td>-1.035354</td>\n",
       "      <td>0.128387</td>\n",
       "    </tr>\n",
       "    <tr>\n",
       "      <th>3</th>\n",
       "      <td>P_2</td>\n",
       "      <td>(0.941, 1.01]</td>\n",
       "      <td>(0.526, 0.611]</td>\n",
       "      <td>548547</td>\n",
       "      <td>174087</td>\n",
       "      <td>0.126345</td>\n",
       "      <td>374460</td>\n",
       "      <td>0.090154</td>\n",
       "      <td>-0.337503</td>\n",
       "      <td>0.012215</td>\n",
       "    </tr>\n",
       "    <tr>\n",
       "      <th>4</th>\n",
       "      <td>P_2</td>\n",
       "      <td>(0.941, 1.01]</td>\n",
       "      <td>(0.611, 0.694]</td>\n",
       "      <td>548546</td>\n",
       "      <td>92161</td>\n",
       "      <td>0.066887</td>\n",
       "      <td>456385</td>\n",
       "      <td>0.109877</td>\n",
       "      <td>0.496367</td>\n",
       "      <td>0.021339</td>\n",
       "    </tr>\n",
       "  </tbody>\n",
       "</table>\n",
       "</div>"
      ],
      "text/plain": [
       "  Variable         2cutoff          Cutoff       N  Events  % of Events  \\\n",
       "0      P_2  (0.889, 0.941]  (-0.46, 0.319]  548547  424060     0.307765   \n",
       "1      P_2  (0.889, 0.941]  (0.319, 0.433]  548548  339707     0.246545   \n",
       "2      P_2   (0.941, 1.01]  (0.433, 0.526]  548545  264940     0.192282   \n",
       "3      P_2   (0.941, 1.01]  (0.526, 0.611]  548547  174087     0.126345   \n",
       "4      P_2   (0.941, 1.01]  (0.611, 0.694]  548546   92161     0.066887   \n",
       "\n",
       "   Non-Events  % of Non-Events       WoE        IV  \n",
       "0      124487         0.029971 -2.329107  0.647012  \n",
       "1      208841         0.050280 -1.589943  0.312051  \n",
       "2      283605         0.068280 -1.035354  0.128387  \n",
       "3      374460         0.090154 -0.337503  0.012215  \n",
       "4      456385         0.109877  0.496367  0.021339  "
      ]
     },
     "execution_count": 19,
     "metadata": {},
     "output_type": "execute_result"
    }
   ],
   "source": [
    "woe.head(\n",
    "\n",
    ")"
   ]
  },
  {
   "cell_type": "code",
   "execution_count": 21,
   "metadata": {},
   "outputs": [
    {
     "ename": "ValueError",
     "evalue": "Only numeric, Timestamp and Timedelta endpoints are allowed when constructing an Interval.",
     "output_type": "error",
     "traceback": [
      "\u001b[0;31m---------------------------------------------------------------------------\u001b[0m",
      "\u001b[0;31mValueError\u001b[0m                                Traceback (most recent call last)",
      "Cell \u001b[0;32mIn [21], line 1\u001b[0m\n\u001b[0;32m----> 1\u001b[0m woe[\u001b[38;5;124m'\u001b[39m\u001b[38;5;124mtest\u001b[39m\u001b[38;5;124m'\u001b[39m] \u001b[38;5;241m=\u001b[39m pd\u001b[38;5;241m.\u001b[39mInterval(woe[\u001b[38;5;124m'\u001b[39m\u001b[38;5;124m2cutoff\u001b[39m\u001b[38;5;124m'\u001b[39m],\u001b[38;5;241m2\u001b[39m)\n",
      "File \u001b[0;32m~/Documents/1-DataScience/1-Projetos/American_Express-Default_Prediction/venv/lib/python3.8/site-packages/pandas/_libs/interval.pyx:329\u001b[0m, in \u001b[0;36mpandas._libs.interval.Interval.__init__\u001b[0;34m()\u001b[0m\n",
      "File \u001b[0;32m~/Documents/1-DataScience/1-Projetos/American_Express-Default_Prediction/venv/lib/python3.8/site-packages/pandas/_libs/interval.pyx:349\u001b[0m, in \u001b[0;36mpandas._libs.interval.Interval._validate_endpoint\u001b[0;34m()\u001b[0m\n",
      "\u001b[0;31mValueError\u001b[0m: Only numeric, Timestamp and Timedelta endpoints are allowed when constructing an Interval."
     ]
    }
   ],
   "source": [
    "woe['test'] = pd.Interval(woe['2cutoff'],2)"
   ]
  }
 ],
 "metadata": {
  "kernelspec": {
   "display_name": "Python 3.8.10 ('venv': venv)",
   "language": "python",
   "name": "python3"
  },
  "language_info": {
   "codemirror_mode": {
    "name": "ipython",
    "version": 3
   },
   "file_extension": ".py",
   "mimetype": "text/x-python",
   "name": "python",
   "nbconvert_exporter": "python",
   "pygments_lexer": "ipython3",
   "version": "3.8.10"
  },
  "orig_nbformat": 4,
  "vscode": {
   "interpreter": {
    "hash": "3fddb47bc9764f917e582b0801b6a9ae07a3476d8133832258babead972bf3eb"
   }
  }
 },
 "nbformat": 4,
 "nbformat_minor": 2
}
